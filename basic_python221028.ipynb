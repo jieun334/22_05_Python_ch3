{
  "nbformat": 4,
  "nbformat_minor": 0,
  "metadata": {
    "colab": {
      "provenance": [],
      "collapsed_sections": [],
      "authorship_tag": "ABX9TyNlpw5watRX9L0crTBYNRd/",
      "include_colab_link": true
    },
    "kernelspec": {
      "name": "python3",
      "display_name": "Python 3"
    },
    "language_info": {
      "name": "python"
    }
  },
  "cells": [
    {
      "cell_type": "markdown",
      "metadata": {
        "id": "view-in-github",
        "colab_type": "text"
      },
      "source": [
        "<a href=\"https://colab.research.google.com/github/jieun334/basic_python221028/blob/main/basic_python221028.ipynb\" target=\"_parent\"><img src=\"https://colab.research.google.com/assets/colab-badge.svg\" alt=\"Open In Colab\"/></a>"
      ]
    },
    {
      "cell_type": "markdown",
      "source": [
        "1. 사용자로부터 두 개의 정수를 받아서 정수의 합, 정수의 차, 정수의 곱, 정수의 평균, 큰 수, 작은 수를 계산하여 화면에 출력하는 프로그램을 작성하라. 파이썬이 제공하는 내장 함수 max(x, y), min(x, y)을 사용해보자."
      ],
      "metadata": {
        "id": "JQE2ANF1aEpm"
      }
    },
    {
      "cell_type": "code",
      "source": [
        "x = int(input(\"x의 값은?   \"))\n",
        "y = int(input(\"y의 값은?   \"))\n",
        "\n",
        "print(\"두 수의 합은\", x+y)\n",
        "print(\"두 수의 차는\", x-y)\n",
        "print(\"두 수의 곱은\", x*y)\n",
        "print(\"두 수의 평균은\", (x+y)/2)\n",
        "print(\"큰 수는\", max(x,y))\n",
        "print(\"작은 수는\", min(x,y))"
      ],
      "metadata": {
        "colab": {
          "base_uri": "https://localhost:8080/"
        },
        "id": "fxzj2Ps1at57",
        "outputId": "49e8d15b-5e23-406f-abf8-3b8512c8aaba"
      },
      "execution_count": 14,
      "outputs": [
        {
          "output_type": "stream",
          "name": "stdout",
          "text": [
            "x의 값은?   10\n",
            "y의 값은?   20\n",
            "두 수의 합은 30\n",
            "두 수의 차는 -10\n",
            "두 수의 곱은 200\n",
            "두 수의 평균은 15.0\n",
            "큰 수는 20\n",
            "작은 수는 10\n"
          ]
        }
      ]
    },
    {
      "cell_type": "markdown",
      "source": [
        "2. 원기둥의 부피를 계산하는 프로그램을 작성해보자. 원기둥의 부피는 다음과 같이 계산한다."
      ],
      "metadata": {
        "id": "6yHbZGBgb-f1"
      }
    },
    {
      "cell_type": "code",
      "source": [
        "r = float(input(\"r 값은?   \"))\n",
        "h = float(input(\"h 값은?   \"))\n",
        "\n",
        "vol = 3.141592*r**2 * h\n",
        "print(\"원기둥의 부피는\", vol)"
      ],
      "metadata": {
        "colab": {
          "base_uri": "https://localhost:8080/"
        },
        "id": "PFIArE34cGWh",
        "outputId": "5991f8fc-22c4-45cf-b3af-4215bc16641d"
      },
      "execution_count": 5,
      "outputs": [
        {
          "output_type": "stream",
          "name": "stdout",
          "text": [
            "r 값은?   10\n",
            "h 값은?   100\n",
            "원기둥의 부피는 31415.92\n"
          ]
        }
      ]
    },
    {
      "cell_type": "markdown",
      "source": [
        "3. 사용자로부터 정수를 받아서 정수의 자리수의 합을 계산하는 프로그램을 작성하여 보자. 예를 들어서 사용자가 1234를 입력하였다면 1+2+3+4를 계산하면 된다. 나머지 연산자와 정수 나눗셈 연산자 //를 적극적으로 사용해보자."
      ],
      "metadata": {
        "id": "wrTk2wHodTPT"
      }
    },
    {
      "cell_type": "code",
      "source": [
        "number = int(input(\"정수를 입력하시오.   \"))\n",
        "\n",
        "sum = 0\n",
        "sum = sum+number % 10\n",
        "number = number // 10\n",
        "\n",
        "sum = sum+number % 10\n",
        "number = number // 10\n",
        "\n",
        "sum = sum+number % 10\n",
        "number = number // 10\n",
        "\n",
        "sum = sum+number % 10\n",
        "number = number // 10\n",
        "\n",
        "print(\"자리수의 합은\", str(sum))"
      ],
      "metadata": {
        "colab": {
          "base_uri": "https://localhost:8080/"
        },
        "id": "SD3EuFw2diwN",
        "outputId": "e7b031d8-6b7c-49bf-ef29-514705860880"
      },
      "execution_count": 13,
      "outputs": [
        {
          "output_type": "stream",
          "name": "stdout",
          "text": [
            "정수를 입력하시오.   1234\n",
            "자리수의 합은 10\n"
          ]
        }
      ]
    },
    {
      "cell_type": "markdown",
      "source": [
        "4. 사용자로부터 두 점의 좌표 (xl, yl)과 (x2, y2)를 입력받아서 두 점 사이의 거리를 계산하는 프로그램을 작성해보자. 스크립트 모드로 작성하라. 거리는 다음 식으로 계산한다."
      ],
      "metadata": {
        "id": "HHTu1Cxpg7rD"
      }
    },
    {
      "cell_type": "code",
      "source": [
        "x1 = int(input(\"x1의 값을 입력하시오   \"))\n",
        "x2 = int(input(\"x2의 값을 입력하시오   \"))\n",
        "y1 = int(input(\"y1의 값을 입력하시오   \"))\n",
        "y2 = int(input(\"y2의 값을 입력하시오   \"))\n",
        "dist = ((x2-x1)**2 + (y2-y1)**2)** 0.5\n",
        "print(\"두 점 사이의 거리는\", dist, \"입니다.\")"
      ],
      "metadata": {
        "colab": {
          "base_uri": "https://localhost:8080/"
        },
        "id": "s5Gi4GRHhOYS",
        "outputId": "9da36e5f-0e3e-45a9-9890-4091b4f6ed57"
      },
      "execution_count": 12,
      "outputs": [
        {
          "output_type": "stream",
          "name": "stdout",
          "text": [
            "x1의 값을 입력하시오   0\n",
            "x2의 값을 입력하시오   100\n",
            "y1의 값을 입력하시오   0\n",
            "y2의 값을 입력하시오   100\n",
            "두 점 사이의 거리는 141.4213562373095 입니다.\n"
          ]
        }
      ]
    },
    {
      "cell_type": "markdown",
      "source": [
        "5. 4번 문제에서 계산한 거리가 맞는지, 터틀 그래픽으로 확인해보자. 거북이를 왼쪽으로 45도 회전하여 141만큼 전진시킨다. 다시 거북이를 (0, 0)으로 이동하고 0도를 가리키게 한 후에 100만큼 전진하고 왼쪽으로 90도 회전하여 100만큼 전진한다. 화면에 그려진 직선이 일치하는가?"
      ],
      "metadata": {
        "id": "yUvwTDH4lQW-"
      }
    },
    {
      "cell_type": "code",
      "source": [
        "import turtle\n",
        "t = turtle.Turtle()\n",
        "t.shape(turtle)\n",
        "t.shape(\"turtle\")\n",
        "t.left(45)\n",
        "t.forward(141)\n",
        "t.setheading(0)\n",
        "t.goto(0,0)\n",
        "t.forward(100)\n",
        "t.left(90)\n",
        "t.forward(100)"
      ],
      "metadata": {
        "id": "glo8CrfZm2MB"
      },
      "execution_count": null,
      "outputs": []
    },
    {
      "cell_type": "markdown",
      "source": [
        "6. 사용자로부터 두 점을 입력받아서 터틀 그래픽을 이용하여 두 점을 연결하는 직선을 그린다. 직선의 끝점에 직선의 길이를 계산하여 출력해보자."
      ],
      "metadata": {
        "id": "n1yPFxktm9Hn"
      }
    },
    {
      "cell_type": "code",
      "source": [
        "import turtle\n",
        "t = turtle.Turtle()\n",
        "t.shape(\"turtle\")\n",
        "x1 = int(input(\"x1\"))\n",
        "x10\n",
        "y1 = int(input(\"y1\"))\n",
        "y10\n",
        "x2 = int(input(\"x2\"))\n",
        "x2100\n",
        "y2 = int(input(\"y2\"))\n",
        "y2100\n",
        "dist = ((x1-x2)**2 + (y1-y2)**2)** 0.5\n",
        "t.up()\n",
        "t.goto(x1,y1)\n",
        "t.down()\n",
        "t.goto(x2,y2)\n",
        "t.write(\"점의 길이=\" + str(dist))"
      ],
      "metadata": {
        "id": "sUUS5pXJnJqn"
      },
      "execution_count": null,
      "outputs": []
    }
  ]
}